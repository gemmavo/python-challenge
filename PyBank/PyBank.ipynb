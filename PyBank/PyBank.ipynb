{
 "cells": [
  {
   "cell_type": "code",
   "execution_count": 94,
   "metadata": {},
   "outputs": [],
   "source": [
    "import csv\n",
    "import os"
   ]
  },
  {
   "cell_type": "code",
   "execution_count": 96,
   "metadata": {},
   "outputs": [
    {
     "data": {
      "text/plain": [
       "['Date', 'Profit/Losses']"
      ]
     },
     "execution_count": 96,
     "metadata": {},
     "output_type": "execute_result"
    }
   ],
   "source": [
    "input_file = open(\"budget_data.csv\")\n",
    "csv_read = csv.reader(input_file)\n",
    "next(csv_read)"
   ]
  },
  {
   "cell_type": "code",
   "execution_count": 97,
   "metadata": {},
   "outputs": [],
   "source": [
    "count = 0\n",
    "total = 0"
   ]
  },
  {
   "cell_type": "code",
   "execution_count": 98,
   "metadata": {},
   "outputs": [],
   "source": [
    "newL = []"
   ]
  },
  {
   "cell_type": "code",
   "execution_count": 99,
   "metadata": {},
   "outputs": [],
   "source": [
    "for row in csv_read:\n",
    "    if row[0] != 0:\n",
    "         count = 1 + count\n",
    "    n = int(row[1])\n",
    "    total = n + total\n",
    "    newL.append(row)\n"
   ]
  },
  {
   "cell_type": "code",
   "execution_count": 100,
   "metadata": {},
   "outputs": [],
   "source": [
    "greatest_inc = 0\n",
    "inc_date = \"\"\n",
    "greatest_dec = 0\n",
    "dec_date = \"\""
   ]
  },
  {
   "cell_type": "code",
   "execution_count": 101,
   "metadata": {},
   "outputs": [],
   "source": [
    "i = 0\n",
    "change = 0\n",
    "total_change = 0\n",
    "while i < len(newL) - 1:\n",
    "    change = int(newL[i+1][1]) - int(newL[i][1])\n",
    "    total_change = change + total_change\n",
    "    if change < greatest_dec:\n",
    "         greatest_dec = change\n",
    "         dec_date = newL[i+1][0]\n",
    "    if change > greatest_inc:\n",
    "         greatest_inc = change\n",
    "         inc_date = newL[i+1][0]\n",
    "    i = i + 1"
   ]
  },
  {
   "cell_type": "code",
   "execution_count": 102,
   "metadata": {},
   "outputs": [
    {
     "name": "stdout",
     "output_type": "stream",
     "text": [
      "Financial Analysis\n",
      "----------------------------\n",
      "Total Months: 86\n",
      "Total: $38382578\n",
      "Average Change: $-2288.20\n",
      "Greatest Increase in Profits: Feb-2012 ($1926159)\n",
      "Greatest Decrease in Profits: Sep-2013 ($-2196167)\n"
     ]
    }
   ],
   "source": [
    "avg_change = total_change/count\n",
    "\n",
    "print(\"Financial Analysis\")\n",
    "print(\"----------------------------\")\n",
    "print(\"Total Months: {}\".format(count))\n",
    "print(\"Total: ${}\".format(total))\n",
    "print(\"Average Change: ${:.2f}\".format(avg_change))\n",
    "print(\"Greatest Increase in Profits: {} (${})\".format(inc_date, greatest_inc))\n",
    "print(\"Greatest Decrease in Profits: {} (${})\".format(dec_date, greatest_dec))"
   ]
  },
  {
   "cell_type": "code",
   "execution_count": 103,
   "metadata": {},
   "outputs": [],
   "source": [
    "with open(\"budget_data.txt\", \"w\") as new_file:\n",
    "    new_file.write(\"Financial Analysis \\n\")\n",
    "    new_file.write(\"---------------------------- \\n\")\n",
    "    new_file.write(\"Total Months: {} \\n\".format(count))\n",
    "    new_file.write(\"Total: ${} \\n\".format(total))\n",
    "    new_file.write(\"Average Change: ${:.2f} \\n\".format(avg_change))\n",
    "    new_file.write(\"Greatest Increase in Profits: {} (${})\\n\".format(inc_date, greatest_inc))\n",
    "    new_file.write(\"Greatest Decrease in Profits: {} (${}) \\n\".format(dec_date, greatest_dec))"
   ]
  }
 ],
 "metadata": {
  "kernelspec": {
   "display_name": "Python 3",
   "language": "python",
   "name": "python3"
  },
  "language_info": {
   "codemirror_mode": {
    "name": "ipython",
    "version": 3
   },
   "file_extension": ".py",
   "mimetype": "text/x-python",
   "name": "python",
   "nbconvert_exporter": "python",
   "pygments_lexer": "ipython3",
   "version": "3.7.3"
  }
 },
 "nbformat": 4,
 "nbformat_minor": 4
}
