{
 "cells": [
  {
   "cell_type": "code",
   "execution_count": 1,
   "metadata": {},
   "outputs": [],
   "source": [
    "import csv"
   ]
  },
  {
   "cell_type": "code",
   "execution_count": 2,
   "metadata": {},
   "outputs": [
    {
     "data": {
      "text/plain": [
       "['Voter ID', 'County', 'Candidate']"
      ]
     },
     "execution_count": 2,
     "metadata": {},
     "output_type": "execute_result"
    }
   ],
   "source": [
    "input_file = open(\"election_data.csv\")\n",
    "csv_read = csv.reader(input_file)\n",
    "next(csv_read)"
   ]
  },
  {
   "cell_type": "code",
   "execution_count": 3,
   "metadata": {},
   "outputs": [],
   "source": [
    "total = 0\n",
    "all_rows = []\n",
    "cand = []"
   ]
  },
  {
   "cell_type": "code",
   "execution_count": 4,
   "metadata": {},
   "outputs": [],
   "source": [
    "for row in csv_read:\n",
    "    total = 1 + total\n",
    "    if row[2] not in cand:\n",
    "        cand.append(row[2])\n",
    "    all_rows.append(row)"
   ]
  },
  {
   "cell_type": "code",
   "execution_count": 5,
   "metadata": {},
   "outputs": [],
   "source": [
    "newDict = {i : 0 for i in cand} "
   ]
  },
  {
   "cell_type": "code",
   "execution_count": 6,
   "metadata": {},
   "outputs": [],
   "source": [
    "for key in newDict.keys():\n",
    "    for row in all_rows:\n",
    "        if row[2] == key:\n",
    "            newDict[key] += 1"
   ]
  },
  {
   "cell_type": "code",
   "execution_count": 7,
   "metadata": {},
   "outputs": [],
   "source": [
    "per_votes = []\n",
    "for key in newDict.keys():\n",
    "    p = newDict[key]\n",
    "    per_votes.append(p/total)"
   ]
  },
  {
   "cell_type": "code",
   "execution_count": 8,
   "metadata": {},
   "outputs": [],
   "source": [
    "max_votes = 0\n",
    "winner = \"\"\n",
    "for key in newDict.keys():\n",
    "    if newDict[key] > max_votes:\n",
    "        max_votes = newDict[key]\n",
    "        winner = key "
   ]
  },
  {
   "cell_type": "code",
   "execution_count": 9,
   "metadata": {},
   "outputs": [
    {
     "name": "stdout",
     "output_type": "stream",
     "text": [
      "Election Results\n",
      "-------------------------\n",
      "Total Votes: 3521001\n",
      "-------------------------\n",
      "Khan: 63.000% (2218231)\n",
      "Correy: 20.000% (704200)\n",
      "Li: 14.000% (492940)\n",
      "O'Tooley: 3.000% (105630)\n",
      "-------------------------\n",
      "Winner: Khan\n",
      "-------------------------\n"
     ]
    }
   ],
   "source": [
    "print(\"Election Results\")\n",
    "print(\"-------------------------\")\n",
    "print(\"Total Votes: {}\".format(total))\n",
    "print(\"-------------------------\")\n",
    "print(\"Khan: {:.3f}% ({})\".format(per_votes[0]*100, newDict[\"Khan\"]))\n",
    "print(\"Correy: {:.3f}% ({})\".format(per_votes[1]*100, newDict[\"Correy\"]))\n",
    "print(\"Li: {:.3f}% ({})\".format(per_votes[2]*100, newDict[\"Li\"]))\n",
    "print(\"O'Tooley: {:.3f}% ({})\".format(per_votes[3]*100, newDict[\"O'Tooley\"]))\n",
    "print(\"-------------------------\")\n",
    "print(\"Winner: {}\".format(winner))\n",
    "print(\"-------------------------\")"
   ]
  },
  {
   "cell_type": "code",
   "execution_count": 10,
   "metadata": {},
   "outputs": [],
   "source": [
    "with open(\"election_results2.txt\", \"w\") as out_file:\n",
    "    out_file.write(\"Election Results \\n\")\n",
    "    out_file.write(\"------------------------- \\n\")\n",
    "    out_file.write(\"Total Votes: {} \\n\".format(total))\n",
    "    out_file.write(\"------------------------- \\n\")\n",
    "    out_file.write(\"Khan: {:.3f}% ({}) \\n\".format(per_votes[0]*100, newDict[\"Khan\"]))\n",
    "    out_file.write(\"Correy: {:.3f}% ({}) \\n\".format(per_votes[1]*100, newDict[\"Correy\"]))\n",
    "    out_file.write(\"Li: {:.3f}% ({}) \\n\".format(per_votes[2]*100, newDict[\"Li\"]))\n",
    "    out_file.write(\"O'Tooley: {:.3f}% ({}) \\n\".format(per_votes[3]*100, newDict[\"O'Tooley\"]))\n",
    "    out_file.write(\"------------------------- \\n\")\n",
    "    out_file.write(\"Winner: {} \\n\".format(winner))\n",
    "    out_file.write(\"------------------------- \\n\")"
   ]
  }
 ],
 "metadata": {
  "kernelspec": {
   "display_name": "Python 3",
   "language": "python",
   "name": "python3"
  },
  "language_info": {
   "codemirror_mode": {
    "name": "ipython",
    "version": 3
   },
   "file_extension": ".py",
   "mimetype": "text/x-python",
   "name": "python",
   "nbconvert_exporter": "python",
   "pygments_lexer": "ipython3",
   "version": "3.7.3"
  }
 },
 "nbformat": 4,
 "nbformat_minor": 4
}
